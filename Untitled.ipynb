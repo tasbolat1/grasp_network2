{
 "cells": [
  {
   "cell_type": "code",
   "execution_count": 1,
   "metadata": {},
   "outputs": [],
   "source": [
    "import torch\n",
    "from models.networks import DGCNN, get_graph_feature, knn\n",
    "from utils import utils\n",
    "import torch.nn as nn\n",
    "\n",
    "device = torch.device('cuda:0')"
   ]
  },
  {
   "cell_type": "code",
   "execution_count": 2,
   "metadata": {},
   "outputs": [],
   "source": [
    "class FLAG():\n",
    "    def __init__(self):\n",
    "        self.emb_dims = 1024\n",
    "        self.dropout = 0.1\n",
    "        self.k = 20\n",
    "args = FLAG()"
   ]
  },
  {
   "cell_type": "code",
   "execution_count": 3,
   "metadata": {},
   "outputs": [
    {
     "data": {
      "text/plain": [
       "1809576"
      ]
     },
     "execution_count": 3,
     "metadata": {},
     "output_type": "execute_result"
    }
   ],
   "source": [
    "net =  DGCNN(args, output_channels=40).to(device)\n",
    "net.load_state_dict(torch.load('auxilaries/model.1024.t7_converted'))\n",
    "net = net\n",
    "utils.count_parameters(net)"
   ]
  },
  {
   "cell_type": "code",
   "execution_count": 4,
   "metadata": {},
   "outputs": [],
   "source": [
    "net2 =  DGCNN(args, output_channels=1).to(device)"
   ]
  },
  {
   "cell_type": "code",
   "execution_count": 5,
   "metadata": {},
   "outputs": [],
   "source": [
    "net2.bn1 = net.bn1\n",
    "net2.bn2 = net.bn2\n",
    "net2.bn3 = net.bn3\n",
    "net2.bn4 = net.bn4\n",
    "net2.bn5 = net.bn5\n",
    "net2.bn6 = net.bn6\n",
    "net2.bn7 = net.bn7\n",
    "net2.conv1 = net.conv1\n",
    "net2.conv2 = net.conv2\n",
    "net2.conv3 = net.conv3\n",
    "net2.conv4 = net.conv4\n",
    "net2.conv5 = net.conv5\n",
    "\n",
    "net2.linear1 = net.linear1\n",
    "net2.linear2 = net.linear2"
   ]
  },
  {
   "cell_type": "code",
   "execution_count": 6,
   "metadata": {},
   "outputs": [
    {
     "data": {
      "text/plain": [
       "Sequential(\n",
       "  (0): Conv2d(6, 64, kernel_size=(1, 1), stride=(1, 1), bias=False)\n",
       "  (1): BatchNorm2d(64, eps=1e-05, momentum=0.1, affine=True, track_running_stats=True)\n",
       "  (2): LeakyReLU(negative_slope=0.2)\n",
       ")"
      ]
     },
     "execution_count": 6,
     "metadata": {},
     "output_type": "execute_result"
    }
   ],
   "source": [
    "net.conv1"
   ]
  },
  {
   "cell_type": "code",
   "execution_count": 7,
   "metadata": {},
   "outputs": [
    {
     "name": "stdout",
     "output_type": "stream",
     "text": [
      "bn1.weight\n",
      "bn1.bias\n",
      "bn2.weight\n",
      "bn2.bias\n",
      "bn3.weight\n",
      "bn3.bias\n",
      "bn4.weight\n",
      "bn4.bias\n",
      "bn5.weight\n",
      "bn5.bias\n",
      "conv1.0.weight\n",
      "conv2.0.weight\n",
      "conv3.0.weight\n",
      "conv4.0.weight\n",
      "conv5.0.weight\n",
      "linear1.weight\n",
      "bn6.weight\n",
      "bn6.bias\n",
      "linear2.weight\n",
      "linear2.bias\n",
      "bn7.weight\n",
      "bn7.bias\n",
      "linear3.weight\n",
      "linear3.bias\n"
     ]
    }
   ],
   "source": [
    "for name, params in net.named_parameters():\n",
    "    print(name)"
   ]
  },
  {
   "cell_type": "code",
   "execution_count": 13,
   "metadata": {},
   "outputs": [],
   "source": [
    "torch.save(net2.to('cpu').state_dict(), 'checkpoints/evaluator/pretrained_from_modelnet/0.pt')"
   ]
  },
  {
   "cell_type": "code",
   "execution_count": 12,
   "metadata": {},
   "outputs": [
    {
     "data": {
      "text/plain": [
       "Linear(in_features=256, out_features=1, bias=True)"
      ]
     },
     "execution_count": 12,
     "metadata": {},
     "output_type": "execute_result"
    }
   ],
   "source": [
    "net2.linear3"
   ]
  },
  {
   "cell_type": "code",
   "execution_count": 8,
   "metadata": {},
   "outputs": [],
   "source": [
    "x = torch.rand([10, 3, 1024]).to(device)"
   ]
  },
  {
   "cell_type": "code",
   "execution_count": 9,
   "metadata": {},
   "outputs": [
    {
     "name": "stdout",
     "output_type": "stream",
     "text": [
      "torch.Size([10, 1024, 1024])\n"
     ]
    }
   ],
   "source": [
    "a = get_graph_feature(x, k=3)"
   ]
  },
  {
   "cell_type": "code",
   "execution_count": 10,
   "metadata": {},
   "outputs": [
    {
     "data": {
      "text/plain": [
       "torch.Size([10, 6, 1024, 3])"
      ]
     },
     "execution_count": 10,
     "metadata": {},
     "output_type": "execute_result"
    }
   ],
   "source": [
    "a.shape"
   ]
  },
  {
   "cell_type": "code",
   "execution_count": 11,
   "metadata": {},
   "outputs": [
    {
     "name": "stdout",
     "output_type": "stream",
     "text": [
      "torch.Size([10, 1024, 1024])\n",
      "torch.Size([10, 1024, 1024])\n",
      "torch.Size([10, 1024, 1024])\n",
      "torch.Size([10, 1024, 1024])\n"
     ]
    },
    {
     "data": {
      "text/plain": [
       "tensor([[-0.2359, -0.1458,  2.4448,  0.1012,  1.1428, -0.4538,  0.3776, -0.2416,\n",
       "         -0.6252,  0.5623, -1.0815,  0.3262,  0.7001,  0.5782, -0.5999, -0.7578,\n",
       "         -0.0218,  0.2331, -0.6507, -0.3121,  0.0589, -0.8256,  0.2205, -0.4702,\n",
       "         -0.4965,  0.2362,  2.6292, -0.3314, -0.1606, -0.3620,  0.0440,  0.1080,\n",
       "          0.1986,  0.0733, -0.5966, -0.2737, -1.1728,  0.3874, -0.5665, -0.0305],\n",
       "        [ 0.7618, -0.9207,  0.0401, -0.5291,  0.4011,  0.5320,  0.1709, -0.4545,\n",
       "         -0.7825,  0.3501,  0.4676, -0.6361,  0.3797,  0.2681,  0.3916,  0.6088,\n",
       "         -0.1661, -1.1051,  0.8133,  0.1048,  0.7633, -1.6245,  0.3532,  1.7661,\n",
       "         -0.9094,  0.1083, -1.2817, -0.7312,  0.5435,  0.4685, -2.2181,  1.0429,\n",
       "         -0.2383, -0.5854,  1.6457, -1.7413,  0.3199,  3.0560,  0.0553, -1.4949],\n",
       "        [ 1.1465, -0.2224,  0.3730, -1.1991,  1.2171,  1.2733, -0.7529, -1.0382,\n",
       "          0.3480, -0.9255, -0.0815,  0.3111,  0.3017, -0.2325, -0.7378, -0.1179,\n",
       "          0.1866,  0.4138,  0.1281, -0.5572, -0.3727, -0.1653,  1.1505,  1.9944,\n",
       "         -0.1602, -1.5295,  0.3279, -0.9128,  0.0081,  0.5032,  1.8550, -1.0931,\n",
       "          0.4991,  1.4652, -0.3562,  0.4836, -0.5801, -1.5426, -0.8439, -0.5837],\n",
       "        [ 0.4291, -0.5607, -1.4514, -1.3995,  0.6227, -0.2777, -0.7036,  2.0426,\n",
       "         -0.6099, -0.0161,  0.1901,  0.2410, -0.1399,  0.9308, -0.7799, -0.8802,\n",
       "         -1.1939,  0.3326, -0.8291, -0.2827, -0.8226,  0.3929,  0.4968, -1.1548,\n",
       "         -0.2248,  0.0136,  1.9624, -0.2707,  0.3831,  0.5147,  0.4641, -0.6818,\n",
       "          1.1408, -0.1191,  1.2009, -0.2694, -1.0150, -0.3952,  0.9308,  1.8200],\n",
       "        [ 0.3908,  0.5325,  0.6482,  0.2837,  1.8064, -0.9215,  0.0544,  0.1349,\n",
       "         -1.2709,  0.0042,  0.7470, -0.0296, -0.7254, -0.6445, -0.9958, -0.4838,\n",
       "          2.0738, -0.8510,  0.9501,  0.1966, -1.1669,  2.3615,  0.7532, -0.9651,\n",
       "          0.6062,  0.2797, -1.6440, -0.6191, -0.2904, -1.3483,  0.1923,  0.1093,\n",
       "          0.2349, -0.2448, -1.1088,  0.0557,  0.9117,  1.4424, -0.7533, -0.7258],\n",
       "        [ 0.2356, -0.0953, -0.4369,  0.9355, -1.4249, -0.0717,  0.4629, -0.4963,\n",
       "          1.3138, -0.2027, -0.7080, -0.6276,  0.6132, -0.4306, -0.8018, -1.1798,\n",
       "         -0.8300,  0.8373,  0.8977,  0.4751, -0.6884,  1.3898,  0.4861,  0.1476,\n",
       "          0.4406,  0.7418, -0.4861,  1.1815, -0.6865,  0.2587,  1.2696, -0.2618,\n",
       "         -1.4630,  0.5525, -0.2473,  0.3157,  1.0280, -2.0896, -0.0767, -0.2812],\n",
       "        [ 0.9936, -0.3019, -1.7723,  0.6023, -0.5056, -2.1828,  0.6839, -0.1893,\n",
       "          2.9994,  0.3494,  1.0053,  0.1811, -0.6601, -0.5121, -0.1313,  1.1009,\n",
       "         -0.4113, -0.0342,  0.4671, -0.0997,  0.4937, -0.5820, -1.0664,  0.8759,\n",
       "          0.0220,  0.5563, -1.0189,  0.2454, -0.6374,  1.2135, -1.1121, -0.0035,\n",
       "         -0.0695, -1.4992, -0.4026,  0.5458,  1.9103, -0.7671, -0.6409,  0.3568],\n",
       "        [-0.2920, -1.0635,  1.0937, -0.0611,  2.0553,  0.0195, -0.2041, -0.7738,\n",
       "          2.1514,  0.2684, -0.8250,  0.2236, -0.8614, -1.4348,  1.0584, -0.2411,\n",
       "         -0.1183,  0.9141, -0.4988, -0.7736,  0.0440, -0.1246,  1.3021,  0.2691,\n",
       "         -0.2299, -0.1690,  0.8895, -0.4409, -0.4007, -0.7052,  0.3717,  0.3283,\n",
       "         -0.1344, -0.0366, -0.7820,  0.0227, -1.1439,  0.9795,  0.5943, -1.2858],\n",
       "        [-0.9043,  0.8721, -0.7902,  1.5180, -1.0989,  0.8791, -0.9124,  0.3540,\n",
       "         -0.2090, -0.6569,  0.1371,  0.1407, -0.4283, -0.1749,  1.8970,  0.9348,\n",
       "         -0.1028, -0.2445, -1.0243,  0.0903, -0.3842, -1.4196, -1.2839, -1.9980,\n",
       "         -0.5220, -0.0258, -0.1054, -0.6110, -0.1657, -1.0909,  0.7285, -0.5767,\n",
       "         -0.7700,  1.0977,  0.4424,  0.7620,  2.4042,  2.1337,  0.3688,  0.7124],\n",
       "        [-0.2324,  0.7394,  1.0819,  0.0037, -2.9666,  0.9556,  0.1589,  0.2657,\n",
       "         -0.0415,  0.1591, -0.3137, -0.1065,  0.7129,  0.8159,  0.6375,  0.2813,\n",
       "          0.4285, -0.1301, -0.1881,  0.0676,  0.8088,  0.0642, -1.8428,  0.0982,\n",
       "          0.5595, -0.3198, -1.1118,  1.4750,  0.4750,  0.3100,  0.1831,  0.6937,\n",
       "         -0.3252, -0.2297,  0.1988,  0.4043, -2.0503, -2.6533,  0.6413,  0.3066]],\n",
       "       device='cuda:0', grad_fn=<AddmmBackward0>)"
      ]
     },
     "execution_count": 11,
     "metadata": {},
     "output_type": "execute_result"
    }
   ],
   "source": [
    "net(x)"
   ]
  },
  {
   "cell_type": "code",
   "execution_count": null,
   "metadata": {},
   "outputs": [],
   "source": []
  },
  {
   "cell_type": "code",
   "execution_count": null,
   "metadata": {},
   "outputs": [],
   "source": []
  }
 ],
 "metadata": {
  "kernelspec": {
   "display_name": "Python 3 (ipykernel)",
   "language": "python",
   "name": "python3"
  },
  "language_info": {
   "codemirror_mode": {
    "name": "ipython",
    "version": 3
   },
   "file_extension": ".py",
   "mimetype": "text/x-python",
   "name": "python",
   "nbconvert_exporter": "python",
   "pygments_lexer": "ipython3",
   "version": "3.8.5"
  }
 },
 "nbformat": 4,
 "nbformat_minor": 4
}
